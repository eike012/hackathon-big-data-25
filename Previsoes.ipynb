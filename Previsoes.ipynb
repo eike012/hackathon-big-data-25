{
  "nbformat": 4,
  "nbformat_minor": 0,
  "metadata": {
    "colab": {
      "provenance": []
    },
    "kernelspec": {
      "name": "python3",
      "display_name": "Python 3"
    },
    "language_info": {
      "name": "python"
    }
  },
  "cells": [
    {
      "cell_type": "markdown",
      "source": [
        "###Imports"
      ],
      "metadata": {
        "id": "xw5MMHl16Bdn"
      }
    },
    {
      "cell_type": "code",
      "source": [
        "import pandas as pd\n",
        "from prophet import Prophet\n",
        "import pyarrow as pa\n",
        "import pyarrow.parquet as pq\n",
        "import numpy as np"
      ],
      "metadata": {
        "id": "h8OpUH_SPTGB"
      },
      "execution_count": 4,
      "outputs": []
    },
    {
      "cell_type": "markdown",
      "source": [
        "###Funções\n",
        "\n",
        "Definição e implementação de funções"
      ],
      "metadata": {
        "id": "75J-AcGk5oLu"
      }
    },
    {
      "cell_type": "code",
      "source": [
        "def readPrintDf(path: str, cols: list): #lê e imprime informações do dataframe\n",
        "  fileToBeRead = pq.ParquetFile(path)\n",
        "\n",
        "  for i in range(fileToBeRead.num_row_groups):\n",
        "\n",
        "    #caso queira ver todas as colunas, é só apagar o segundo parametro\n",
        "    row_group_table = fileToBeRead.read_row_group(i,columns=cols)\n",
        "    df_chunk = row_group_table.to_pandas()\n",
        "\n",
        "    # Process df_chunk here\n",
        "    print(df_chunk.head())"
      ],
      "metadata": {
        "id": "SFu31htUxrLW"
      },
      "execution_count": 1,
      "outputs": []
    },
    {
      "cell_type": "markdown",
      "source": [
        "###Primeiro Dataset"
      ],
      "metadata": {
        "id": "azHfCr7958Bu"
      }
    },
    {
      "cell_type": "code",
      "source": [
        "df = pd.read_parquet(r'/content/part-00000-tid-5196563791502273604-c90d3a24-52f2-4955-b4ec-fb143aae74d8-4-1-c000.snappy.parquet')\n",
        "print(df.head())"
      ],
      "metadata": {
        "id": "Qq6OKc5VXdxA",
        "colab": {
          "base_uri": "https://localhost:8080/"
        },
        "outputId": "322d5ff4-e816-448b-b5a6-3cdacd2eb3c3"
      },
      "execution_count": null,
      "outputs": [
        {
          "output_type": "stream",
          "name": "stdout",
          "text": [
            "     internal_store_id  internal_product_id distributor_id transaction_date  \\\n",
            "0  7384367747233276219   328903483604537190              9       2022-07-13   \n",
            "1  3536908514005606262  5418855670645487653              5       2022-03-21   \n",
            "2  3138231730993449825  1087005562675741887              6       2022-09-06   \n",
            "3  3681167389484217654  1401422983880045188              5       2022-09-11   \n",
            "4  7762413312337359369  6614994347738381720              4       2022-02-18   \n",
            "\n",
            "  reference_date  quantity  gross_value    net_value  gross_profit  \\\n",
            "0     2022-07-01       1.0    38.125000    37.890625     10.042625   \n",
            "1     2022-03-01       6.0   107.250000   106.440002     24.732002   \n",
            "2     2022-09-01       3.0    56.625000    56.220001     14.124002   \n",
            "3     2022-09-01     129.0  1037.160023  1037.160023    156.348026   \n",
            "4     2022-02-01       1.0    26.230000    23.950241      6.550241   \n",
            "\n",
            "     discount     taxes  \n",
            "0    3.950000  0.234375  \n",
            "1   17.100000  0.810000  \n",
            "2    5.250000  0.405000  \n",
            "3  479.880006  0.000000  \n",
            "4    0.000000  2.279758  \n"
          ]
        }
      ]
    },
    {
      "cell_type": "markdown",
      "source": [
        "###Segundo Dataset\n",
        "\n",
        "Contem informações como, descrição do produto, tipo, fabricante, id do produto, etc.\n"
      ],
      "metadata": {
        "id": "DfIpifwH4X93"
      }
    },
    {
      "cell_type": "code",
      "source": [
        "#define as colunas desejadas\n",
        "useful_col = ['produto', 'tipos', 'fabricante']\n",
        "readPrintDf('/content/product_description.parquet', useful_col)"
      ],
      "metadata": {
        "id": "DzNg6oA6gq7E",
        "colab": {
          "base_uri": "https://localhost:8080/"
        },
        "outputId": "6097b4e7-0699-44ad-92ed-4b012cd783e3"
      },
      "execution_count": 5,
      "outputs": [
        {
          "output_type": "stream",
          "name": "stdout",
          "text": [
            "               produto              tipos             fabricante\n",
            "0    69753381296344216            Package   Monday Night Brewing\n",
            "1  5019314249828979377  Distilled Spirits  Barrell Craft Spirits\n",
            "2  4016404282141162328  Distilled Spirits          AB Drinkworks\n",
            "3  6217366559810422145  Distilled Spirits        Sazerac Spirits\n",
            "4  7356488787409434558              Draft    Reformation Brewery\n",
            "               produto              tipos                  fabricante\n",
            "0  5044299171659817393            Package       AB Anheuser Busch Inc\n",
            "1  3585969057050764707        Non Alcohol                  Fabbri USA\n",
            "2  6060220868232695621  Distilled Spirits       Barrell Craft Spirits\n",
            "3  5769858011746869720        Wine < 14 %  Miller Family Wine Company\n",
            "4   395700816455634762  Distilled Spirits             Sazerac Spirits\n",
            "               produto              tipos                   fabricante\n",
            "0  2668910845834193418  Distilled Spirits  Beau Monde Wine And Spirits\n",
            "1  3267166411479713426        Non Alcohol        Langers Juice Company\n",
            "2  7084656552213552407        Non Alcohol                      Arizona\n",
            "3   584288463057084165            Package                Tilray Brands\n",
            "4  8243956001470994417  Distilled Spirits              Sazerac Spirits\n",
            "               produto              tipos                  fabricante\n",
            "0  3363377813270886052  Distilled Spirits             Sazerac Spirits\n",
            "1   201905186453486145        Wine < 14 %  Miller Family Wine Company\n",
            "2  2520991939919582072  Distilled Spirits             Sazerac Spirits\n",
            "3  5503219054583886378  Distilled Spirits             Sazerac Spirits\n",
            "4  1198527128668178480        Wine < 14 %              Legend Imports\n",
            "               produto              tipos                      fabricante\n",
            "0   342571949467757732            Package                   Tilray Brands\n",
            "1  6557928151410162608        Wine < 14 %  Total Beverage Solution - Wine\n",
            "2  8156513683353744840  Distilled Spirits                          Kra-ze\n",
            "3  5454567657615593374  Distilled Spirits                 Sazerac Spirits\n",
            "4  5704457805758518711        Wine < 14 %                         Ca'momi\n"
          ]
        }
      ]
    },
    {
      "cell_type": "markdown",
      "source": [
        "###Terceiro Dataset\n",
        "\n",
        "Contém ponto de venda, categoria do ponto de venda e zipcode (cep)"
      ],
      "metadata": {
        "id": "cLvTSRjc6NBB"
      }
    },
    {
      "cell_type": "code",
      "source": [
        "df2 = pd.read_parquet(r'/content/part-00000-tid-2779033056155408584-f6316110-4c9a-4061-ae48-69b77c7c8c36-4-1-c000.snappy.parquet')\n",
        "print(df2.head())"
      ],
      "metadata": {
        "colab": {
          "base_uri": "https://localhost:8080/"
        },
        "id": "498kncqgkVqF",
        "outputId": "3e52ed62-6e3d-4c7b-a882-50246cba1663"
      },
      "execution_count": null,
      "outputs": [
        {
          "output_type": "stream",
          "name": "stdout",
          "text": [
            "                   pdv      premise categoria_pdv  zipcode\n",
            "0  2204965430669363375   On Premise  Mexican Rest    30741\n",
            "1  5211957289528622910   On Premise   Hotel/Motel    80011\n",
            "2  9024493554530757353  Off Premise   Convenience    80751\n",
            "3  8659197371382902429   On Premise    Restaurant    80439\n",
            "4  1400854873763881130   On Premise    Restaurant    30093\n"
          ]
        }
      ]
    },
    {
      "cell_type": "code",
      "source": [
        "m = Prophet()\n",
        "m.fit(df)"
      ],
      "metadata": {
        "id": "085UAzU0V4wY"
      },
      "execution_count": null,
      "outputs": []
    },
    {
      "cell_type": "code",
      "source": [
        "future = m.make_future_dataframe(periods=365)\n",
        "\n",
        "forecast = m.predict(future)\n",
        "\n",
        "#aux = forecast[['ds', 'yhat', 'yhat_lower', 'yhat_upper']]\n",
        "#print(aux)"
      ],
      "metadata": {
        "id": "Ezf-QAOdV5J2"
      },
      "execution_count": null,
      "outputs": []
    },
    {
      "cell_type": "code",
      "source": [
        "fig1 = m.plot(forecast)\n",
        "fig1.savefig('fig1')\n",
        "\n",
        "fig2 = m.plot_components(forecast)\n",
        "fig2.savefig('fig2')"
      ],
      "metadata": {
        "id": "bGegSVuPguHm"
      },
      "execution_count": null,
      "outputs": []
    },
    {
      "cell_type": "code",
      "source": [],
      "metadata": {
        "id": "CLGnojuIhg-V"
      },
      "execution_count": null,
      "outputs": []
    }
  ]
}