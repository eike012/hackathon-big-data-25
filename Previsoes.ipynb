{
  "nbformat": 4,
  "nbformat_minor": 0,
  "metadata": {
    "colab": {
      "provenance": []
    },
    "kernelspec": {
      "name": "python3",
      "display_name": "Python 3"
    },
    "language_info": {
      "name": "python"
    }
  },
  "cells": [
    {
      "cell_type": "markdown",
      "source": [
        "###Imports"
      ],
      "metadata": {
        "id": "xw5MMHl16Bdn"
      }
    },
    {
      "cell_type": "code",
      "source": [
        "import pandas as pd\n",
        "from prophet import Prophet\n",
        "import pyarrow as pa\n",
        "import pyarrow.parquet as pq\n",
        "import numpy as np"
      ],
      "metadata": {
        "id": "h8OpUH_SPTGB"
      },
      "execution_count": 1,
      "outputs": []
    },
    {
      "cell_type": "markdown",
      "source": [
        "###Funções\n",
        "\n",
        "Definição e implementação de funções"
      ],
      "metadata": {
        "id": "75J-AcGk5oLu"
      }
    },
    {
      "cell_type": "code",
      "source": [
        "def readPrintDf(path: str, cols: list, outputName: str): #lê e imprime informações do dataframe\n",
        "  fileToBeRead = pq.ParquetFile(path)\n",
        "  for i in range(fileToBeRead.num_row_groups):\n",
        "\n",
        "    #descomente a linha abaixo caso queira ver todas as colunas\n",
        "    row_group_table = fileToBeRead.read_row_group(i)\n",
        "    #row_group_table = fileToBeRead.read_row_group(i,columns=cols)\n",
        "    df_chunk = row_group_table.to_pandas()\n",
        "\n",
        "    #salvo apenas o primeiro lote em um csv\n",
        "    if i == 0:\n",
        "       df_chunk.to_csv(outputName, index=False)\n",
        "\n",
        "    # Process df_chunk here\n",
        "    #print(df_chunk.head())"
      ],
      "metadata": {
        "id": "SFu31htUxrLW"
      },
      "execution_count": 14,
      "outputs": []
    },
    {
      "cell_type": "markdown",
      "source": [
        "###Primeiro Dataset\n",
        "Dados transacionais, data da transação,Produto, Quantidade, Faturamento"
      ],
      "metadata": {
        "id": "azHfCr7958Bu"
      }
    },
    {
      "cell_type": "code",
      "source": [
        "cols = ['teste']\n",
        "readPrintDf('/content/transactions_info.parquet',cols,'transactions_info.csv')"
      ],
      "metadata": {
        "id": "Qq6OKc5VXdxA"
      },
      "execution_count": 15,
      "outputs": []
    },
    {
      "cell_type": "markdown",
      "source": [
        "###Segundo Dataset\n",
        "\n",
        "Contem informações como, descrição do produto, tipo, fabricante, id do produto (sku), etc.\n"
      ],
      "metadata": {
        "id": "DfIpifwH4X93"
      }
    },
    {
      "cell_type": "code",
      "source": [
        "#define as colunas desejadas\n",
        "useful_col = ['produto', 'tipos', 'fabricante']\n",
        "readPrintDf('/content/product_description(sdk).parquet', useful_col, 'product_description.csv')"
      ],
      "metadata": {
        "id": "DzNg6oA6gq7E"
      },
      "execution_count": 16,
      "outputs": []
    },
    {
      "cell_type": "markdown",
      "source": [
        "###Terceiro Dataset\n",
        "\n",
        "Contém ponto de venda, categoria do ponto de venda e zipcode (cep)"
      ],
      "metadata": {
        "id": "cLvTSRjc6NBB"
      }
    },
    {
      "cell_type": "code",
      "source": [
        "cols = ['teste']\n",
        "readPrintDf('/content/pdv_info.parquet', cols, 'pdv_info.csv')"
      ],
      "metadata": {
        "id": "498kncqgkVqF"
      },
      "execution_count": 17,
      "outputs": []
    },
    {
      "cell_type": "code",
      "source": [
        "m = Prophet()\n",
        "m.fit(df)"
      ],
      "metadata": {
        "id": "085UAzU0V4wY"
      },
      "execution_count": null,
      "outputs": []
    },
    {
      "cell_type": "code",
      "source": [
        "future = m.make_future_dataframe(periods=365)\n",
        "\n",
        "forecast = m.predict(future)\n",
        "\n",
        "#aux = forecast[['ds', 'yhat', 'yhat_lower', 'yhat_upper']]\n",
        "#print(aux)"
      ],
      "metadata": {
        "id": "Ezf-QAOdV5J2"
      },
      "execution_count": null,
      "outputs": []
    },
    {
      "cell_type": "code",
      "source": [
        "fig1 = m.plot(forecast)\n",
        "fig1.savefig('fig1')\n",
        "\n",
        "fig2 = m.plot_components(forecast)\n",
        "fig2.savefig('fig2')"
      ],
      "metadata": {
        "id": "bGegSVuPguHm"
      },
      "execution_count": null,
      "outputs": []
    }
  ]
}